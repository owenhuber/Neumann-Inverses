{
 "cells": [
  {
   "cell_type": "code",
   "execution_count": 17,
   "id": "6ecb2aaa",
   "metadata": {},
   "outputs": [],
   "source": [
    "import numpy as np\n",
    "import sys\n",
    "from numpy import linalg as LA\n",
    "import matplotlib.pyplot as plt\n",
    "from sympy import *"
   ]
  },
  {
   "cell_type": "code",
   "execution_count": 15,
   "id": "f7cc30d2",
   "metadata": {},
   "outputs": [],
   "source": [
    "def Neumman_inverse(B, k):\n",
    "    n = len(B)\n",
    "    A_matrix = np.identity(n) - B\n",
    "    B_inverse = np.identity(n) \n",
    "    for i in np.arange(1, k):   \n",
    "        B_inverse += LA.matrix_power(A_matrix, i) \n",
    "        \n",
    "    return B_inverse\n",
    "\n",
    "def least_num(T, error):\n",
    "    k = 0\n",
    "    difference_inverse = LA.inv(T) - Neumman_inverse(T, 0)\n",
    "    while (LA.norm(difference_inverse, np.inf) > error):\n",
    "        k += 1\n",
    "        the_guess = Neumman_inverse(T, k)\n",
    "        difference_inverse = LA.inv(T) - the_guess\n",
    "        \n",
    "    return k-1"
   ]
  },
  {
   "cell_type": "code",
   "execution_count": 18,
   "id": "0074b0ba",
   "metadata": {},
   "outputs": [
    {
     "data": {
      "text/plain": [
       "7"
      ]
     },
     "execution_count": 18,
     "metadata": {},
     "output_type": "execute_result"
    }
   ],
   "source": [
    "C = np.array([[0.9, -0.2, -0.3], [0.1, 1.0, -0.1], [0.3, 0.2, 1.1]])\n",
    "\n",
    "least_num(C, .001)"
   ]
  },
  {
   "cell_type": "code",
   "execution_count": 29,
   "id": "50265584",
   "metadata": {},
   "outputs": [],
   "source": [
    "A1 = np.array([[1000, 999], [999, 998]])\n",
    "B1 = np.array([[5, 1], [2, 3]])\n",
    "C1 = np.array([[10, 2, -1], [1, 8, 3], [-2, -1, 10]])\n",
    "D1 = np.array([[10, -2, -1, -1], [-1, 10, -1, -1], [-1, -1, 10, -2], [-1, -1, -2, 10]])\n",
    "E1 = np.array([[1, 1/2, 1/3, 1/4], [1/2, 1/3, 1/4, 1/5], [1/3, 1/4, 1/5, 1/6], [1/4, 1/5, 1/6, 1/7]])"
   ]
  },
  {
   "cell_type": "code",
   "execution_count": 33,
   "id": "1036f197",
   "metadata": {},
   "outputs": [],
   "source": [
    "def Gauss_Without_Pivoting(A):\n",
    "    n = len(A) + 1\n",
    "    \n",
    "    for k in range(n - 1):\n",
    "        \n",
    "        for i in range(k + 1, n-1):\n",
    "            ratio = A[i][k] / A[k][k]\n",
    "            for j in range(k + 1, n):\n",
    "                A[i][j] -= A[k][j] * ratio\n",
    "\n",
    "            # Fill lower triangular matrix with zeros:\n",
    "            A[i][k] = 0\n",
    "            \n",
    "    return A\n",
    "\n",
    "def Gauss_With_Pivoting(A):\n",
    "    n = len(A) + 1\n",
    "    \n",
    "    for k in range(n - 1):\n",
    "        \n",
    "        #steps added for partial pivoting (locating where we should pivot)\n",
    "        pivots = [abs(A[i][k]) for i in range(k, n-1)]\n",
    "        i_max = pivots.index(max(pivots)) + k\n",
    "        \n",
    "        # Swap rows\n",
    "        A[k], A[i_max] = A[i_max], A[k]\n",
    "\n",
    "        \n",
    "        for i in range(k + 1, n-1):\n",
    "            ration = A[i][k] / A[k][k]\n",
    "            for j in range(k + 1, n-1):\n",
    "                A[i][j] -= A[k][j] * ration\n",
    "\n",
    "            # Fill lower triangular matrix with zeros:\n",
    "            A[i][k] = 0\n",
    "            \n",
    "    return [(n-1)*(n-k)**2 + n]"
   ]
  },
  {
   "cell_type": "code",
   "execution_count": 34,
   "id": "7641eaa6",
   "metadata": {},
   "outputs": [
    {
     "data": {
      "text/plain": [
       "[5]"
      ]
     },
     "execution_count": 34,
     "metadata": {},
     "output_type": "execute_result"
    }
   ],
   "source": [
    "Gauss_With_Pivoting(E1)"
   ]
  },
  {
   "cell_type": "code",
   "execution_count": 21,
   "id": "d7efa6b7",
   "metadata": {},
   "outputs": [
    {
     "data": {
      "text/plain": [
       "array([1, 3, 2])"
      ]
     },
     "execution_count": 21,
     "metadata": {},
     "output_type": "execute_result"
    }
   ],
   "source": [
    "cd = np.array([1,1,2])\n",
    "dog = 3\n",
    "cd[1] = dog\n",
    "cd\n"
   ]
  }
 ],
 "metadata": {
  "kernelspec": {
   "display_name": "Python 3",
   "language": "python",
   "name": "python3"
  },
  "language_info": {
   "codemirror_mode": {
    "name": "ipython",
    "version": 3
   },
   "file_extension": ".py",
   "mimetype": "text/x-python",
   "name": "python",
   "nbconvert_exporter": "python",
   "pygments_lexer": "ipython3",
   "version": "3.7.10"
  }
 },
 "nbformat": 4,
 "nbformat_minor": 5
}
